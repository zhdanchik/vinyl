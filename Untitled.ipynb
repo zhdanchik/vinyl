{
 "cells": [
  {
   "cell_type": "code",
   "execution_count": null,
   "id": "4a4c11d6",
   "metadata": {
    "cellId": "e3ogvd2xan6la2wr0v50h"
   },
   "outputs": [],
   "source": [
    "%pip install pandas==1.4\n"
   ]
  },
  {
   "cell_type": "code",
   "execution_count": 393,
   "id": "a7912a6b",
   "metadata": {
    "cellId": "zy9mlt8tqe95z31om5i1n"
   },
   "outputs": [
    {
     "name": "stderr",
     "output_type": "stream",
     "text": [
      "UsageError: Line magic function `%pip3` not found.\n"
     ]
    },
    {
     "ename": "UsageError",
     "evalue": "Line magic function `%pip3` not found.",
     "output_type": "error",
     "traceback": []
    }
   ],
   "source": [
    "%pip install lxml "
   ]
  },
  {
   "cell_type": "code",
   "execution_count": 412,
   "id": "51194dea",
   "metadata": {
    "cellId": "qoikau4qono84saacqx2em"
   },
   "outputs": [],
   "source": [
    "import os\n",
    "import pandas as pd\n",
    "import xml.etree.ElementTree as ET\n",
    "from io import StringIO\n",
    "from bs4 import BeautifulSoup\n",
    "import tqdm\n",
    "from tqdm import notebook"
   ]
  },
  {
   "cell_type": "code",
   "execution_count": 435,
   "id": "56980549",
   "metadata": {
    "cellId": "cmgqna4gynnrjzstj67cli"
   },
   "outputs": [],
   "source": [
    "rates = {'20220504': {'usdrub':66.43, 'eurrub':70.059}, \n",
    "         '20220513': {'usdrub':65.27, 'eurrub':67.57},\n",
    "         '20220911': {'usdrub':60.605, 'eurrub':60.924},\n",
    "         '20230226': {'usdrub':74.71, 'eurrub':79.57},\n",
    "         '20230509': {'usdrub':76.82, 'eurrub':84.91},\n",
    "        }"
   ]
  },
  {
   "cell_type": "code",
   "execution_count": 436,
   "id": "8ca53bf8",
   "metadata": {
    "cellId": "xq1vp9iomejajw0wrib6"
   },
   "outputs": [
    {
     "name": "stdout",
     "output_type": "stream",
     "text": [
      "../history/20230509 [] ['Моя коллекция - Discogs.htm', 'Моя коллекция - Discogs 1.htm']\n"
     ]
    }
   ],
   "source": [
    "import os\n",
    "rootdir = '../history/20230509'\n",
    "\n",
    "total_df = pd.DataFrame()\n",
    "for subdir, dirs, files in os.walk(rootdir):\n",
    "    print(subdir, dirs, files)"
   ]
  },
  {
   "cell_type": "code",
   "execution_count": 437,
   "id": "1b8aeecc",
   "metadata": {
    "cellId": "aq5tws3j33b2i1jarp24vq"
   },
   "outputs": [
    {
     "data": {
      "application/vnd.jupyter.widget-view+json": {
       "model_id": "96a4bff70046454ea0ad0c824eadfac1",
       "version_major": 2,
       "version_minor": 0
      },
      "text/plain": [
       "HBox(children=(HTML(value=''), FloatProgress(value=0.0, max=2.0), HTML(value='')))"
      ]
     },
     "metadata": {},
     "output_type": "display_data"
    },
    {
     "name": "stdout",
     "output_type": "stream",
     "text": [
      "../history/20230509/Моя коллекция - Discogs.htm\n"
     ]
    },
    {
     "data": {
      "application/vnd.jupyter.widget-view+json": {
       "model_id": "544e6911df82431baae13bf0d6591abd",
       "version_major": 2,
       "version_minor": 0
      },
      "text/plain": [
       "HBox(children=(HTML(value=''), FloatProgress(value=0.0, max=250.0), HTML(value='')))"
      ]
     },
     "metadata": {},
     "output_type": "display_data"
    },
    {
     "name": "stderr",
     "output_type": "stream",
     "text": [
      "<ipython-input-29-73519e24f465>:97: FutureWarning:\n",
      "\n",
      "Sorting because non-concatenation axis is not aligned. A future version\n",
      "of pandas will change to not sort by default.\n",
      "\n",
      "To accept the future behavior, pass 'sort=False'.\n",
      "\n",
      "To retain the current behavior and silence the warning, pass 'sort=True'.\n",
      "\n",
      "\n"
     ]
    },
    {
     "name": "stdout",
     "output_type": "stream",
     "text": [
      "\n",
      "../history/20230509/Моя коллекция - Discogs 1.htm\n"
     ]
    },
    {
     "data": {
      "application/vnd.jupyter.widget-view+json": {
       "model_id": "8dce96f81f85435e973448a3ab035c1e",
       "version_major": 2,
       "version_minor": 0
      },
      "text/plain": [
       "HBox(children=(HTML(value=''), FloatProgress(value=0.0, max=144.0), HTML(value='')))"
      ]
     },
     "metadata": {},
     "output_type": "display_data"
    },
    {
     "name": "stdout",
     "output_type": "stream",
     "text": [
      "\n",
      "\n"
     ]
    }
   ],
   "source": [
    "import os\n",
    "rootdir = '../history/20230509'\n",
    "\n",
    "total_df = pd.DataFrame()\n",
    "for subdir, dirs, files in os.walk(rootdir):\n",
    "    for file in tqdm.notebook.tqdm(files):\n",
    "        print(os.path.join(subdir, file))\n",
    "        fname = os.path.join(subdir, file)\n",
    "        date_stamp = subdir.split('/')[-1]\n",
    "        \n",
    "        usdrub = rates.get(date_stamp, {}).get('usdrub','')\n",
    "        eurrub = rates.get(date_stamp, {}).get('eurrub','')\n",
    "        with open(fname, 'r') as f:\n",
    "\n",
    "            contents = f.read()\n",
    "\n",
    "            soup = BeautifulSoup(contents, 'lxml')\n",
    "\n",
    "            max_table, max_size = '', 0\n",
    "            for table in soup.table:\n",
    "                if len(table) > max_size:\n",
    "                    max_table, max_size = table, len(table)\n",
    "\n",
    "            root = ET.parse(StringIO(str(max_table))).getroot()\n",
    "            for tr in tqdm.notebook.tqdm(root.findall('tr')):\n",
    "                row_dict = {'fielddate': [date_stamp]}\n",
    "                for child in tr:\n",
    "#                     print(child.tag, child.attrib, child.text)\n",
    "#                     if child.text == '\\n': continue\n",
    "                    if child.attrib.get('data-followable','') in ['.release_title_link a',]: \n",
    "                        artist_title = child.findall('div/a') #h4/a - old\n",
    "                        row_dict['artist'] = artist_title[0].text\n",
    "                        row_dict['title'] = artist_title[-1].text\n",
    "                        row_dict['name'] = ''.join([c for c in child.find('div').itertext()]) #h4 - old\n",
    "\n",
    "                    if child.attrib.get('data-header','') in ['Мин.',]: row_dict['usd_min'] = float(child.text.strip().replace(',','.').replace('$',''))\n",
    "                    if child.attrib.get('data-header','') in ['Средняя',]: row_dict['usd_avg'] = float(child.text.strip().replace(',','.').replace('$',''))\n",
    "                    if child.attrib.get('data-header','') in ['Макс.',]: row_dict['usd_max'] = float(child.text.strip().replace(',','.').replace('$',''))\n",
    "                    if child.attrib.get('data-header','') in ['Папка',]: row_dict['folder'] = child.find('a').text\n",
    "                    if child.attrib.get('data-header','') in ['Notes',]: \n",
    "                        notes_raw = child.find('div/div/span').get('data-content','')\n",
    "                        notes = notes_raw.split(' ', 3)\n",
    "                        row_dict['notes_raw'] = notes_raw\n",
    "\n",
    "                        if len(notes) < 4:\n",
    "                            row_dict['num_hashed'] = ''\n",
    "                            row_dict['curr_price'] = ''\n",
    "                            row_dict['curr'] = ''\n",
    "                            row_dict['comment'] = ''\n",
    "                        else : \n",
    "                            row_dict['num_hashed'], row_dict['curr_price'], row_dict['curr'], row_dict['comment'] = notes\n",
    "                            if '+' in row_dict['curr_price']:\n",
    "                                row_dict['curr_price_deliv'] = float(row_dict['curr_price'].split('+')[1])\n",
    "                                row_dict['curr_price'] = float(row_dict['curr_price'].split('+')[0])\n",
    "                            else :\n",
    "                                row_dict['curr_price_deliv'] = 0\n",
    "                                row_dict['curr_price'] = float(row_dict['curr_price'])\n",
    "\n",
    "                row_dict['num'] = row_dict['num_hashed'][1:]\n",
    "                row_dict['usdrub'] = usdrub\n",
    "                row_dict['eurrub'] = eurrub\n",
    "                row_dict['usd_min'] = row_dict.get('usd_min', 0)\n",
    "                row_dict['usd_avg'] = row_dict.get('usd_avg', 0)\n",
    "                row_dict['usd_max'] = row_dict.get('usd_max', 0)\n",
    "                row_dict['rub_min'] = row_dict.get('usd_min', 0) * usdrub\n",
    "                row_dict['rub_avg'] = row_dict.get('usd_avg', 0) * usdrub\n",
    "                row_dict['rub_max'] = row_dict.get('usd_max', 0) * usdrub\n",
    "                if row_dict['curr'] == '$':\n",
    "                    row_dict['usd_price'] = row_dict['curr_price'] \n",
    "                    row_dict['usd_price_deliv'] = row_dict['curr_price_deliv']\n",
    "                    row_dict['usd_price_total'] = row_dict['usd_price'] + row_dict['usd_price_deliv']\n",
    "                    row_dict['rub_price'] = row_dict['curr_price'] * usdrub\n",
    "                    row_dict['rub_price_deliv'] = row_dict['curr_price_deliv'] * usdrub\n",
    "                    row_dict['rub_price_total'] = row_dict['rub_price'] + row_dict['rub_price_deliv']\n",
    "                elif row_dict['curr'] == '₽':\n",
    "                    row_dict['usd_price'] = row_dict['curr_price'] / usdrub\n",
    "                    row_dict['usd_price_deliv'] = row_dict['curr_price_deliv'] / usdrub\n",
    "                    row_dict['usd_price_total'] = row_dict['usd_price'] + row_dict['usd_price_deliv']\n",
    "                    row_dict['rub_price'] = row_dict['curr_price']\n",
    "                    row_dict['rub_price_deliv'] = row_dict['curr_price_deliv']\n",
    "                    row_dict['rub_price_total'] = row_dict['rub_price'] + row_dict['rub_price_deliv']\n",
    "                elif row_dict['curr'] == '€':\n",
    "                    row_dict['usd_price'] = row_dict['curr_price'] * eurrub / usdrub\n",
    "                    row_dict['usd_price_deliv'] = row_dict['curr_price_deliv'] * eurrub / usdrub\n",
    "                    row_dict['usd_price_total'] = row_dict['usd_price'] + row_dict['usd_price_deliv']\n",
    "                    row_dict['rub_price'] = row_dict['curr_price'] * eurrub\n",
    "                    row_dict['rub_price_deliv'] = row_dict['curr_price_deliv']  * eurrub\n",
    "                    row_dict['rub_price_total'] = row_dict['rub_price'] + row_dict['rub_price_deliv']\n",
    "                else : \n",
    "                    row_dict['usd_price'] = 0\n",
    "                    row_dict['usd_price_deliv'] = 0\n",
    "                    row_dict['usd_price_total'] = row_dict['usd_price'] + row_dict['usd_price_deliv']\n",
    "                    row_dict['rub_price'] = 0\n",
    "                    row_dict['rub_price_deliv'] = 0\n",
    "                    row_dict['rub_price_total'] = row_dict['rub_price'] + row_dict['rub_price_deliv']\n",
    "                            \n",
    "                total_df = pd.concat([total_df, pd.DataFrame.from_dict(row_dict)])"
   ]
  },
  {
   "cell_type": "code",
   "execution_count": 438,
   "id": "4aa6a832",
   "metadata": {
    "cellId": "2y13vevyuwns7yalgsjtg"
   },
   "outputs": [],
   "source": [
    "total_df.to_csv('../20230509.csv', sep = ';', index=False)"
   ]
  },
  {
   "cell_type": "code",
   "execution_count": 439,
   "id": "7779c25e",
   "metadata": {
    "cellId": "th389tpm6m8vo0l5pzbzt"
   },
   "outputs": [
    {
     "data": {
      "text/plain": [
       "26"
      ]
     },
     "execution_count": 439,
     "metadata": {},
     "output_type": "execute_result"
    }
   ],
   "source": [
    "len(total_df.columns)"
   ]
  },
  {
   "cell_type": "code",
   "execution_count": 440,
   "id": "aec266cb",
   "metadata": {
    "cellId": "e83o0mirucou8f3w3nnqc"
   },
   "outputs": [],
   "source": [
    "#----------Вводить свои данные в нижние 3 переменные--------------\n",
    "CH_HOST_NAME = 'rc1b-v0sh59uk1uvsobo1.mdb.yandexcloud.net'\n",
    "CH_USER      = 'z_sergey'\n",
    "CH_DB_NAME   = 'vinyl'\n",
    "\n",
    "#-------------------------------------------\n",
    "CH_PASS      = open('../.chpass.txt').read().strip()\n",
    "CH_HOST      = f'https://{CH_HOST_NAME}:8443'\n",
    "CH_CASERT    = 'YandexInternalRootCA.crt'"
   ]
  },
  {
   "cell_type": "code",
   "execution_count": 441,
   "id": "8141828c",
   "metadata": {
    "cellId": "x6cbu96kvxsp3dqyqgscqs"
   },
   "outputs": [],
   "source": [
    "import some_funcs\n",
    "from some_funcs import simple_ch_client"
   ]
  },
  {
   "cell_type": "code",
   "execution_count": 442,
   "id": "10b89b8c",
   "metadata": {
    "cellId": "so6lkom1iufqyqj8x4ct4q"
   },
   "outputs": [
    {
     "name": "stdout",
     "output_type": "stream",
     "text": [
      "22.8.17.17\n",
      "\n"
     ]
    }
   ],
   "source": [
    "my_client = simple_ch_client(CH_HOST, CH_USER, CH_PASS, CH_CASERT)\n",
    "my_client.get_version()"
   ]
  },
  {
   "cell_type": "code",
   "execution_count": 316,
   "id": "fb07b408",
   "metadata": {
    "cellId": "mte94e6kl7lrp7bnlo7tje"
   },
   "outputs": [
    {
     "data": {
      "text/plain": [
       "''"
      ]
     },
     "metadata": {},
     "output_type": "display_data"
    }
   ],
   "source": [
    "# q = f'drop table if exists {CH_DB_NAME}.collection '\n",
    "# my_client.get_clickhouse_data(q)\n",
    "\n",
    "# q = f'''\n",
    "# create table {CH_DB_NAME}.collection (\n",
    "#     fielddate String ,\n",
    "#     artist String ,\n",
    "#     title String ,\n",
    "#     name String ,\n",
    "#     usd_min Double ,\n",
    "#     usd_avg Double ,\n",
    "#     usd_max Double ,\n",
    "#     folder String ,\n",
    "#     notes_raw String ,\n",
    "#     num_hashed String ,\n",
    "#     curr_price Double ,\n",
    "#     curr String ,\n",
    "#     comment String ,\n",
    "#     curr_price_deliv Double ,\n",
    "#     num Double ,\n",
    "#     usdrub Double ,\n",
    "#     eurrub Double ,\n",
    "#     rub_min Double ,\n",
    "#     rub_avg Double ,\n",
    "#     rub_max Double ,\n",
    "#     usd_price Double ,\n",
    "#     usd_price_deliv Double ,\n",
    "#     usd_price_total Double ,\n",
    "#     rub_price Double ,\n",
    "#     rub_price_deliv Double ,\n",
    "#     rub_price_total Double\n",
    "# ) ENGINE = Log()\n",
    "# '''\n",
    "\n",
    "# my_client.get_clickhouse_data(q)"
   ]
  },
  {
   "cell_type": "code",
   "execution_count": 446,
   "id": "ca67e14e",
   "metadata": {
    "cellId": "lqnct4vxcz5awzhbclmi3"
   },
   "outputs": [
    {
     "data": {
      "text/plain": [
       "''"
      ]
     },
     "execution_count": 446,
     "metadata": {},
     "output_type": "execute_result"
    }
   ],
   "source": [
    "my_client.upload(\n",
    "    f'{CH_DB_NAME}.collection',\n",
    "    total_df.to_csv(index = False, sep = '\\t'))"
   ]
  },
  {
   "cell_type": "code",
   "execution_count": 328,
   "id": "79610ff1",
   "metadata": {
    "cellId": "lh97kehi5pqe7guzduywgq"
   },
   "outputs": [],
   "source": [
    "df_old_collection = pd.read_csv('../old_collection.csv', sep = ';')"
   ]
  },
  {
   "cell_type": "code",
   "execution_count": 330,
   "id": "79deca72",
   "metadata": {
    "cellId": "shln8g9zwcluofda6ul7"
   },
   "outputs": [],
   "source": [
    "# df_old_collection.loc[df_old_collection['curr'] == '?', 'curr'] = '₽'\n",
    "# df_old_collection['notes_raw'] = df_old_collection['notes_raw'].str.replace('?','₽')"
   ]
  },
  {
   "cell_type": "code",
   "execution_count": 331,
   "id": "254b93eb",
   "metadata": {
    "cellId": "ox4vd15bgoiaw4oup5rjj"
   },
   "outputs": [
    {
     "data": {
      "text/html": [
       "<div>\n",
       "<style scoped>\n",
       "    .dataframe tbody tr th:only-of-type {\n",
       "        vertical-align: middle;\n",
       "    }\n",
       "\n",
       "    .dataframe tbody tr th {\n",
       "        vertical-align: top;\n",
       "    }\n",
       "\n",
       "    .dataframe thead th {\n",
       "        text-align: right;\n",
       "    }\n",
       "</style>\n",
       "<table border=\"1\" class=\"dataframe\">\n",
       "  <thead>\n",
       "    <tr style=\"text-align: right;\">\n",
       "      <th></th>\n",
       "      <th>fielddate</th>\n",
       "      <th>artist</th>\n",
       "      <th>title</th>\n",
       "      <th>name</th>\n",
       "      <th>usd_min</th>\n",
       "      <th>usd_avg</th>\n",
       "      <th>usd_max</th>\n",
       "      <th>folder</th>\n",
       "      <th>notes_raw</th>\n",
       "      <th>num_hashed</th>\n",
       "      <th>...</th>\n",
       "      <th>eurrub</th>\n",
       "      <th>rub_min</th>\n",
       "      <th>rub_avg</th>\n",
       "      <th>rub_max</th>\n",
       "      <th>usd_price</th>\n",
       "      <th>usd_price_deliv</th>\n",
       "      <th>usd_price_total</th>\n",
       "      <th>rub_price</th>\n",
       "      <th>rub_price_deliv</th>\n",
       "      <th>rub_price_total</th>\n",
       "    </tr>\n",
       "  </thead>\n",
       "  <tbody>\n",
       "    <tr>\n",
       "      <th>0</th>\n",
       "      <td>20210807</td>\n",
       "      <td>Various</td>\n",
       "      <td>Blues Greatest</td>\n",
       "      <td>Various - Blues Greatest</td>\n",
       "      <td>20.61</td>\n",
       "      <td>21.22</td>\n",
       "      <td>21.83</td>\n",
       "      <td>Uncategorized</td>\n",
       "      <td>#245 1560 ₽ Yo Vinyl</td>\n",
       "      <td>#245</td>\n",
       "      <td>...</td>\n",
       "      <td>86.38</td>\n",
       "      <td>1514.6289</td>\n",
       "      <td>1559.4578</td>\n",
       "      <td>1604.2867</td>\n",
       "      <td>21.227378</td>\n",
       "      <td>0.000000</td>\n",
       "      <td>21.227378</td>\n",
       "      <td>1560.0</td>\n",
       "      <td>0.00</td>\n",
       "      <td>1560.00</td>\n",
       "    </tr>\n",
       "    <tr>\n",
       "      <th>1</th>\n",
       "      <td>20210807</td>\n",
       "      <td>Serj Tankian</td>\n",
       "      <td>Elect The Dead Symphony</td>\n",
       "      <td>Serj Tankian - Elect The Dead Symphony</td>\n",
       "      <td>21.43</td>\n",
       "      <td>30.95</td>\n",
       "      <td>36.79</td>\n",
       "      <td>Uncategorized</td>\n",
       "      <td>#244 3190 ₽ Yo Vinyl</td>\n",
       "      <td>#244</td>\n",
       "      <td>...</td>\n",
       "      <td>86.38</td>\n",
       "      <td>1574.8907</td>\n",
       "      <td>2274.5155</td>\n",
       "      <td>2703.6971</td>\n",
       "      <td>43.407266</td>\n",
       "      <td>0.000000</td>\n",
       "      <td>43.407266</td>\n",
       "      <td>3190.0</td>\n",
       "      <td>0.00</td>\n",
       "      <td>3190.00</td>\n",
       "    </tr>\n",
       "    <tr>\n",
       "      <th>2</th>\n",
       "      <td>20210807</td>\n",
       "      <td>Various</td>\n",
       "      <td>Quelle Pazze Pazze Canzoni Degli Anni '60</td>\n",
       "      <td>Various - Quelle Pazze Pazze Canzoni Degli Ann...</td>\n",
       "      <td>5.75</td>\n",
       "      <td>5.75</td>\n",
       "      <td>5.75</td>\n",
       "      <td>Uncategorized</td>\n",
       "      <td>#243 0 ₽ Подарок от Гены и Марта</td>\n",
       "      <td>#243</td>\n",
       "      <td>...</td>\n",
       "      <td>86.38</td>\n",
       "      <td>422.5675</td>\n",
       "      <td>422.5675</td>\n",
       "      <td>422.5675</td>\n",
       "      <td>0.000000</td>\n",
       "      <td>0.000000</td>\n",
       "      <td>0.000000</td>\n",
       "      <td>0.0</td>\n",
       "      <td>0.00</td>\n",
       "      <td>0.00</td>\n",
       "    </tr>\n",
       "    <tr>\n",
       "      <th>3</th>\n",
       "      <td>20210807</td>\n",
       "      <td>Van Canto</td>\n",
       "      <td>To The Power Of Eight</td>\n",
       "      <td>Van Canto - To The Power Of Eight</td>\n",
       "      <td>0.00</td>\n",
       "      <td>0.00</td>\n",
       "      <td>0.00</td>\n",
       "      <td>Uncategorized</td>\n",
       "      <td>#242 20+6 € Official Van Canto Shop</td>\n",
       "      <td>#242</td>\n",
       "      <td>...</td>\n",
       "      <td>86.38</td>\n",
       "      <td>0.0000</td>\n",
       "      <td>0.0000</td>\n",
       "      <td>0.0000</td>\n",
       "      <td>23.507960</td>\n",
       "      <td>7.052388</td>\n",
       "      <td>30.560348</td>\n",
       "      <td>1727.6</td>\n",
       "      <td>518.28</td>\n",
       "      <td>2245.88</td>\n",
       "    </tr>\n",
       "    <tr>\n",
       "      <th>4</th>\n",
       "      <td>20210807</td>\n",
       "      <td>The Cranberries</td>\n",
       "      <td>Stars: The Best Of 1992-2002</td>\n",
       "      <td>The Cranberries - Stars: The Best Of 1992-2002</td>\n",
       "      <td>38.82</td>\n",
       "      <td>46.76</td>\n",
       "      <td>49.99</td>\n",
       "      <td>Uncategorized</td>\n",
       "      <td>#241 2990 ₽ Yo Vinyl</td>\n",
       "      <td>#241</td>\n",
       "      <td>...</td>\n",
       "      <td>86.38</td>\n",
       "      <td>2852.8818</td>\n",
       "      <td>3436.3924</td>\n",
       "      <td>3673.7651</td>\n",
       "      <td>40.685808</td>\n",
       "      <td>0.000000</td>\n",
       "      <td>40.685808</td>\n",
       "      <td>2990.0</td>\n",
       "      <td>0.00</td>\n",
       "      <td>2990.00</td>\n",
       "    </tr>\n",
       "    <tr>\n",
       "      <th>...</th>\n",
       "      <td>...</td>\n",
       "      <td>...</td>\n",
       "      <td>...</td>\n",
       "      <td>...</td>\n",
       "      <td>...</td>\n",
       "      <td>...</td>\n",
       "      <td>...</td>\n",
       "      <td>...</td>\n",
       "      <td>...</td>\n",
       "      <td>...</td>\n",
       "      <td>...</td>\n",
       "      <td>...</td>\n",
       "      <td>...</td>\n",
       "      <td>...</td>\n",
       "      <td>...</td>\n",
       "      <td>...</td>\n",
       "      <td>...</td>\n",
       "      <td>...</td>\n",
       "      <td>...</td>\n",
       "      <td>...</td>\n",
       "      <td>...</td>\n",
       "    </tr>\n",
       "    <tr>\n",
       "      <th>1901</th>\n",
       "      <td>20220407</td>\n",
       "      <td>Cream (2)</td>\n",
       "      <td>The Best Of Cream</td>\n",
       "      <td>Cream (2) - The Best Of Cream</td>\n",
       "      <td>13.16</td>\n",
       "      <td>22.50</td>\n",
       "      <td>55.00</td>\n",
       "      <td>Uncategorized</td>\n",
       "      <td>#49 1700 ₽ testhifi</td>\n",
       "      <td>#49</td>\n",
       "      <td>...</td>\n",
       "      <td>82.55</td>\n",
       "      <td>1002.7920</td>\n",
       "      <td>1714.5000</td>\n",
       "      <td>4191.0000</td>\n",
       "      <td>22.309711</td>\n",
       "      <td>0.000000</td>\n",
       "      <td>22.309711</td>\n",
       "      <td>1700.0</td>\n",
       "      <td>0.00</td>\n",
       "      <td>1700.00</td>\n",
       "    </tr>\n",
       "    <tr>\n",
       "      <th>1902</th>\n",
       "      <td>20220407</td>\n",
       "      <td>Geordie</td>\n",
       "      <td>Hope You Like It</td>\n",
       "      <td>Geordie - Hope You Like It</td>\n",
       "      <td>11.96</td>\n",
       "      <td>17.66</td>\n",
       "      <td>21.74</td>\n",
       "      <td>Uncategorized</td>\n",
       "      <td>#47 2500 ₽ avito Юрий</td>\n",
       "      <td>#47</td>\n",
       "      <td>...</td>\n",
       "      <td>82.55</td>\n",
       "      <td>911.3520</td>\n",
       "      <td>1345.6920</td>\n",
       "      <td>1656.5880</td>\n",
       "      <td>32.808399</td>\n",
       "      <td>0.000000</td>\n",
       "      <td>32.808399</td>\n",
       "      <td>2500.0</td>\n",
       "      <td>0.00</td>\n",
       "      <td>2500.00</td>\n",
       "    </tr>\n",
       "    <tr>\n",
       "      <th>1903</th>\n",
       "      <td>20220407</td>\n",
       "      <td>Rock Aid Armenia</td>\n",
       "      <td>The Earthquake Album</td>\n",
       "      <td>Rock Aid Armenia / Various - The Earthquake Album</td>\n",
       "      <td>2.33</td>\n",
       "      <td>3.49</td>\n",
       "      <td>5.81</td>\n",
       "      <td>Мелодия / Балкантон / Антроп / SNC</td>\n",
       "      <td>#51 150 ₽ авито</td>\n",
       "      <td>#51</td>\n",
       "      <td>...</td>\n",
       "      <td>82.55</td>\n",
       "      <td>177.5460</td>\n",
       "      <td>265.9380</td>\n",
       "      <td>442.7220</td>\n",
       "      <td>1.968504</td>\n",
       "      <td>0.000000</td>\n",
       "      <td>1.968504</td>\n",
       "      <td>150.0</td>\n",
       "      <td>0.00</td>\n",
       "      <td>150.00</td>\n",
       "    </tr>\n",
       "    <tr>\n",
       "      <th>1904</th>\n",
       "      <td>20220407</td>\n",
       "      <td>Jefferson Airplane</td>\n",
       "      <td>Surrealistic Pillow</td>\n",
       "      <td>Jefferson Airplane - Surrealistic Pillow</td>\n",
       "      <td>15.79</td>\n",
       "      <td>25.83</td>\n",
       "      <td>35.50</td>\n",
       "      <td>Uncategorized</td>\n",
       "      <td>#48 1585+204 ₽ Винилотека</td>\n",
       "      <td>#48</td>\n",
       "      <td>...</td>\n",
       "      <td>82.55</td>\n",
       "      <td>1203.1980</td>\n",
       "      <td>1968.2460</td>\n",
       "      <td>2705.1000</td>\n",
       "      <td>20.800525</td>\n",
       "      <td>2.677165</td>\n",
       "      <td>23.477690</td>\n",
       "      <td>1585.0</td>\n",
       "      <td>204.00</td>\n",
       "      <td>1789.00</td>\n",
       "    </tr>\n",
       "    <tr>\n",
       "      <th>1905</th>\n",
       "      <td>20220407</td>\n",
       "      <td>The Animals</td>\n",
       "      <td>House Of The Rising Sun</td>\n",
       "      <td>The Animals - House Of The Rising Sun</td>\n",
       "      <td>6.67</td>\n",
       "      <td>10.75</td>\n",
       "      <td>27.57</td>\n",
       "      <td>Uncategorized</td>\n",
       "      <td>#15 1500 ₽ VinylMarket (магазин)</td>\n",
       "      <td>#15</td>\n",
       "      <td>...</td>\n",
       "      <td>82.55</td>\n",
       "      <td>508.2540</td>\n",
       "      <td>819.1500</td>\n",
       "      <td>2100.8340</td>\n",
       "      <td>19.685039</td>\n",
       "      <td>0.000000</td>\n",
       "      <td>19.685039</td>\n",
       "      <td>1500.0</td>\n",
       "      <td>0.00</td>\n",
       "      <td>1500.00</td>\n",
       "    </tr>\n",
       "  </tbody>\n",
       "</table>\n",
       "<p>1906 rows × 26 columns</p>\n",
       "</div>"
      ],
      "text/plain": [
       "      fielddate              artist  \\\n",
       "0      20210807             Various   \n",
       "1      20210807        Serj Tankian   \n",
       "2      20210807             Various   \n",
       "3      20210807           Van Canto   \n",
       "4      20210807     The Cranberries   \n",
       "...         ...                 ...   \n",
       "1901   20220407           Cream (2)   \n",
       "1902   20220407             Geordie   \n",
       "1903   20220407    Rock Aid Armenia   \n",
       "1904   20220407  Jefferson Airplane   \n",
       "1905   20220407         The Animals   \n",
       "\n",
       "                                          title  \\\n",
       "0                                Blues Greatest   \n",
       "1                      Elect The Dead Symphony    \n",
       "2     Quelle Pazze Pazze Canzoni Degli Anni '60   \n",
       "3                         To The Power Of Eight   \n",
       "4                  Stars: The Best Of 1992-2002   \n",
       "...                                         ...   \n",
       "1901                          The Best Of Cream   \n",
       "1902                           Hope You Like It   \n",
       "1903                       The Earthquake Album   \n",
       "1904                        Surrealistic Pillow   \n",
       "1905                    House Of The Rising Sun   \n",
       "\n",
       "                                                   name  usd_min  usd_avg  \\\n",
       "0                              Various - Blues Greatest    20.61    21.22   \n",
       "1               Serj Tankian - Elect The Dead Symphony     21.43    30.95   \n",
       "2     Various - Quelle Pazze Pazze Canzoni Degli Ann...     5.75     5.75   \n",
       "3                     Van Canto - To The Power Of Eight     0.00     0.00   \n",
       "4        The Cranberries - Stars: The Best Of 1992-2002    38.82    46.76   \n",
       "...                                                 ...      ...      ...   \n",
       "1901                      Cream (2) - The Best Of Cream    13.16    22.50   \n",
       "1902                         Geordie - Hope You Like It    11.96    17.66   \n",
       "1903  Rock Aid Armenia / Various - The Earthquake Album     2.33     3.49   \n",
       "1904           Jefferson Airplane - Surrealistic Pillow    15.79    25.83   \n",
       "1905              The Animals - House Of The Rising Sun     6.67    10.75   \n",
       "\n",
       "      usd_max                              folder  \\\n",
       "0       21.83                       Uncategorized   \n",
       "1       36.79                       Uncategorized   \n",
       "2        5.75                       Uncategorized   \n",
       "3        0.00                       Uncategorized   \n",
       "4       49.99                       Uncategorized   \n",
       "...       ...                                 ...   \n",
       "1901    55.00                       Uncategorized   \n",
       "1902    21.74                       Uncategorized   \n",
       "1903     5.81  Мелодия / Балкантон / Антроп / SNC   \n",
       "1904    35.50                       Uncategorized   \n",
       "1905    27.57                       Uncategorized   \n",
       "\n",
       "                                notes_raw num_hashed  ...  eurrub    rub_min  \\\n",
       "0                    #245 1560 ₽ Yo Vinyl       #245  ...   86.38  1514.6289   \n",
       "1                    #244 3190 ₽ Yo Vinyl       #244  ...   86.38  1574.8907   \n",
       "2        #243 0 ₽ Подарок от Гены и Марта       #243  ...   86.38   422.5675   \n",
       "3     #242 20+6 € Official Van Canto Shop       #242  ...   86.38     0.0000   \n",
       "4                    #241 2990 ₽ Yo Vinyl       #241  ...   86.38  2852.8818   \n",
       "...                                   ...        ...  ...     ...        ...   \n",
       "1901                  #49 1700 ₽ testhifi        #49  ...   82.55  1002.7920   \n",
       "1902                #47 2500 ₽ avito Юрий        #47  ...   82.55   911.3520   \n",
       "1903                      #51 150 ₽ авито        #51  ...   82.55   177.5460   \n",
       "1904            #48 1585+204 ₽ Винилотека        #48  ...   82.55  1203.1980   \n",
       "1905     #15 1500 ₽ VinylMarket (магазин)        #15  ...   82.55   508.2540   \n",
       "\n",
       "        rub_avg    rub_max  usd_price  usd_price_deliv  usd_price_total  \\\n",
       "0     1559.4578  1604.2867  21.227378         0.000000        21.227378   \n",
       "1     2274.5155  2703.6971  43.407266         0.000000        43.407266   \n",
       "2      422.5675   422.5675   0.000000         0.000000         0.000000   \n",
       "3        0.0000     0.0000  23.507960         7.052388        30.560348   \n",
       "4     3436.3924  3673.7651  40.685808         0.000000        40.685808   \n",
       "...         ...        ...        ...              ...              ...   \n",
       "1901  1714.5000  4191.0000  22.309711         0.000000        22.309711   \n",
       "1902  1345.6920  1656.5880  32.808399         0.000000        32.808399   \n",
       "1903   265.9380   442.7220   1.968504         0.000000         1.968504   \n",
       "1904  1968.2460  2705.1000  20.800525         2.677165        23.477690   \n",
       "1905   819.1500  2100.8340  19.685039         0.000000        19.685039   \n",
       "\n",
       "      rub_price  rub_price_deliv  rub_price_total  \n",
       "0        1560.0             0.00          1560.00  \n",
       "1        3190.0             0.00          3190.00  \n",
       "2           0.0             0.00             0.00  \n",
       "3        1727.6           518.28          2245.88  \n",
       "4        2990.0             0.00          2990.00  \n",
       "...         ...              ...              ...  \n",
       "1901     1700.0             0.00          1700.00  \n",
       "1902     2500.0             0.00          2500.00  \n",
       "1903      150.0             0.00           150.00  \n",
       "1904     1585.0           204.00          1789.00  \n",
       "1905     1500.0             0.00          1500.00  \n",
       "\n",
       "[1906 rows x 26 columns]"
      ]
     },
     "metadata": {},
     "output_type": "display_data"
    }
   ],
   "source": [
    "df_old_collection"
   ]
  },
  {
   "cell_type": "code",
   "execution_count": 332,
   "id": "0090c4e6",
   "metadata": {
    "cellId": "c57gfavyio5v1jzb041bq"
   },
   "outputs": [
    {
     "data": {
      "text/plain": [
       "''"
      ]
     },
     "metadata": {},
     "output_type": "display_data"
    }
   ],
   "source": [
    "my_client.upload(\n",
    "    f'{CH_DB_NAME}.collection',\n",
    "    df_old_collection.to_csv(index = False, sep = '\\t'))"
   ]
  },
  {
   "cell_type": "code",
   "execution_count": null,
   "id": "2d5aa092",
   "metadata": {
    "cellId": "49t55z18w24osio5wnidv"
   },
   "outputs": [],
   "source": []
  }
 ],
 "metadata": {
  "language_info": {
   "codemirror_mode": {
    "name": "ipython",
    "version": 3
   },
   "file_extension": ".py",
   "mimetype": "text/x-python",
   "name": "python",
   "nbconvert_exporter": "python",
   "pygments_lexer": "ipython3",
   "version": "3.7.7"
  },
  "notebookId": "9f84d960-30b9-4073-a10d-6be6a72de63c",
  "notebookPath": "vinyl/Untitled.ipynb"
 },
 "nbformat": 4,
 "nbformat_minor": 5
}
